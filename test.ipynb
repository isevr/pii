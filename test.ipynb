{
 "cells": [
  {
   "cell_type": "code",
   "execution_count": 52,
   "metadata": {},
   "outputs": [],
   "source": [
    "import translators as ts\n",
    "import translators.server as tss\n",
    "from presidio_analyzer import AnalyzerEngine, Pattern, PatternRecognizer, AnalysisExplanation\n",
    "from presidio_anonymizer import AnonymizerEngine\n",
    "from presidio_anonymizer.entities import OperatorResult, OperatorConfig\n"
   ]
  },
  {
   "cell_type": "code",
   "execution_count": 131,
   "metadata": {},
   "outputs": [],
   "source": [
    "class Tran:\n",
    "    def __init__(self, lang, text):\n",
    "        self.text = text\n",
    "        self.lang = lang\n",
    "\n",
    "        #List of entities to look for\n",
    "        self.entities = ['PERSON', 'NUMBERS',\n",
    "                   'EMAIL_ADDRESS', 'IP_ADDRESS', 'NRP',\n",
    "                   'LOCATION', 'BLOOD_TYPE']\n",
    "        \n",
    "        self.analyzer = AnalyzerEngine()\n",
    "        self.anonymizer = AnonymizerEngine()\n",
    "        \n",
    "        # Option to create custom recognizers\n",
    "        blood_type_recognizer = PatternRecognizer(supported_entity=\"BLOOD_TYPE\",\n",
    "                                      deny_list=[\"A-\",\"A+\",\"B-\",\"B+\",\"AB-\",\"AB+\",\"O-\",\"O+\"])\n",
    "        \n",
    "        numbers_pattern = Pattern(name=\"numbers_pattern\",regex=\"\\d+\", score = 0.3)\n",
    "\n",
    "        number_recognizer = PatternRecognizer(supported_entity=\"NUMBERS\", patterns = [numbers_pattern])\n",
    "\n",
    "        self.analyzer.registry.add_recognizer(blood_type_recognizer)\n",
    "        self.analyzer.registry.add_recognizer(number_recognizer)\n",
    "\n",
    "        # Can define how the operators will behave for each entity\n",
    "        self.operators = {\n",
    "            \"DEFAULT\": OperatorConfig(\"replace\", {\"new_value\": \"<ANONYMIZED>\"}),\n",
    "            \n",
    "            \"PERSON\": OperatorConfig(\"replace\", {\"new_value\": \"<ANONYMOUS>\"}),\n",
    "            \n",
    "            \"NUMBERS\": OperatorConfig(\"replace\", {\"new_value\": \"<ANONYMIZED>\"}),\n",
    "            \n",
    "            \"IP_ADDRESS\": OperatorConfig(\"mask\", {\"type\": \"mask\",\"masking_char\": \"*\",\n",
    "                                                    \"chars_to_mask\": 12,\n",
    "                                                    \"from_end\": True,}),\n",
    "            \"NRP\": OperatorConfig(\"redact\"),\n",
    "            \n",
    "            \"LOCATION\": OperatorConfig(\"replace\", {\"new_value\": \"<HIDDEN>\"}),\n",
    "            \n",
    "            \"EMAIL_ADDRESS\": OperatorConfig(\"replace\", {\"new_value\": \"<HIDDEN_EMAIL>\"}),\n",
    "            \n",
    "            \"BLOOD_TYPE\": OperatorConfig(\"replace\", {\"new_value\": \"<HIDDEN_BLOOD_TYPE>\"})\n",
    "        \n",
    "        }\n",
    "    \n",
    "    def translate(self):\n",
    "        #translates from greek to english \n",
    "        self.translated_txt = ts.translate_text(self.text, translator='google',\n",
    "                                            from_language='el',\n",
    "                                            to_language='en')\n",
    "        return self.translated_txt\n",
    "\n",
    "\n",
    "    def anonymize(self):\n",
    "                \n",
    "        if self.lang == 'el':\n",
    "        # Anonymize the translated text\n",
    "            self.results = self.analyzer.analyze(text=self.translated_txt,\n",
    "                                                entities=self.entities,\n",
    "                                                language='en')\n",
    "            self.anon_text = self.anonymizer.anonymize(text=self.translated_txt, analyzer_results=self.results,\n",
    "                                                operators=self.operators)\n",
    "            return self.anon_text\n",
    "        \n",
    "        #Anonymize english text\n",
    "        elif self.lang == 'en':\n",
    "            self.results = self.analyzer.analyze(text=self.text,\n",
    "                                                entities=self.entities,\n",
    "                                                language='en')\n",
    "            self.anon_text = self.anonymizer.anonymize(text=self.text, analyzer_results=self.results,\n",
    "                                                operators=self.operators)\n",
    "            return self.anon_text\n",
    "        \n",
    "    def PII_removal_from_original(self):\n",
    "        start = self.results[0].to_dict().get('start')\n",
    "        end = self.results[0].to_dict().get('end')\n",
    "        self.pii_translated = ts.translate_text(self.translated_txt[start:end], translator='google',\n",
    "                                                from_language='en',to_language='el')\n",
    "\n",
    "        if self.lang == 'el':\n",
    "            return self.text.replace(self.pii_translated, self.anon_text.items[0].text)\n",
    "        \n",
    "        if self.lang == 'en':\n",
    "            return self.anon_text.text\n",
    "\n"
   ]
  },
  {
   "cell_type": "code",
   "execution_count": 132,
   "metadata": {},
   "outputs": [],
   "source": [
    "def process_user_input():\n",
    "\n",
    "    languages = ['el','en']\n",
    "    exit_phrases = ['goodbye','bye','good bye','see you']\n",
    "    chatbot_prompts = ['What is your name?', 'I need your credit card number to make this purchase',\n",
    "                       'What email address should I send this to?', 'Tell me about yourself',\n",
    "                       'What number should they call you at?', 'Where do you live?',\n",
    "                       'What is your blood type?','What IP address are you connected from?']\n",
    "\n",
    "    lang_input = str(input('Choose language: \\n\\\n",
    "    1) Greek \\n\\\n",
    "    2) English \\n'))\n",
    "    if lang_input.lower() == 'greek' or lang_input == \"1\":\n",
    "        chosen_lang = languages[0]\n",
    "    elif lang_input.lower() == 'english' or lang_input == \"2\":\n",
    "        chosen_lang = languages[1]\n",
    "    else:\n",
    "        print('Language not supported')\n",
    "\n",
    "    while True:\n",
    "        global user_tran\n",
    "        user_input = str(input(f'Say something personal: '))\n",
    "        user_tran = Tran(chosen_lang, user_input)\n",
    "        print(f'This is text: {user_tran.text}')\n",
    "\n",
    "        if chosen_lang == 'el':\n",
    "            user_tran.translate()\n",
    "\n",
    "        if user_tran.text.lower() in exit_phrases:\n",
    "            print('Goodbye!')\n",
    "            break\n",
    "\n",
    "        user_tran.anonymize()\n",
    "        print(user_tran.translated_txt)\n",
    "        user_tran.PII_removal_from_original()\n",
    "        print(f'this is pii_tran: {user_tran.pii_translated}')\n",
    "        \n",
    "\n"
   ]
  },
  {
   "cell_type": "code",
   "execution_count": 133,
   "metadata": {},
   "outputs": [
    {
     "name": "stdout",
     "output_type": "stream",
     "text": [
      "This is text: με λενε Γιαννη\n",
      "my name is John\n",
      "this is pii_tran: Γιάννης\n",
      "This is text: \n"
     ]
    },
    {
     "ename": "TranslatorError",
     "evalue": "The `query_text` can't be empty!",
     "output_type": "error",
     "traceback": [
      "\u001b[1;31m---------------------------------------------------------------------------\u001b[0m",
      "\u001b[1;31mTranslatorError\u001b[0m                           Traceback (most recent call last)",
      "Cell \u001b[1;32mIn[133], line 1\u001b[0m\n\u001b[1;32m----> 1\u001b[0m process_user_input()\n",
      "Cell \u001b[1;32mIn[132], line 27\u001b[0m, in \u001b[0;36mprocess_user_input\u001b[1;34m()\u001b[0m\n\u001b[0;32m     24\u001b[0m \u001b[39mprint\u001b[39m(\u001b[39mf\u001b[39m\u001b[39m'\u001b[39m\u001b[39mThis is text: \u001b[39m\u001b[39m{\u001b[39;00muser_tran\u001b[39m.\u001b[39mtext\u001b[39m}\u001b[39;00m\u001b[39m'\u001b[39m)\n\u001b[0;32m     26\u001b[0m \u001b[39mif\u001b[39;00m chosen_lang \u001b[39m==\u001b[39m \u001b[39m'\u001b[39m\u001b[39mel\u001b[39m\u001b[39m'\u001b[39m:\n\u001b[1;32m---> 27\u001b[0m     user_tran\u001b[39m.\u001b[39;49mtranslate()\n\u001b[0;32m     29\u001b[0m \u001b[39mif\u001b[39;00m user_tran\u001b[39m.\u001b[39mtext\u001b[39m.\u001b[39mlower() \u001b[39min\u001b[39;00m exit_phrases:\n\u001b[0;32m     30\u001b[0m     \u001b[39mprint\u001b[39m(\u001b[39m'\u001b[39m\u001b[39mGoodbye!\u001b[39m\u001b[39m'\u001b[39m)\n",
      "Cell \u001b[1;32mIn[131], line 48\u001b[0m, in \u001b[0;36mTran.translate\u001b[1;34m(self)\u001b[0m\n\u001b[0;32m     46\u001b[0m \u001b[39mdef\u001b[39;00m \u001b[39mtranslate\u001b[39m(\u001b[39mself\u001b[39m):\n\u001b[0;32m     47\u001b[0m     \u001b[39m#translates from greek to english \u001b[39;00m\n\u001b[1;32m---> 48\u001b[0m     \u001b[39mself\u001b[39m\u001b[39m.\u001b[39mtranslated_txt \u001b[39m=\u001b[39m ts\u001b[39m.\u001b[39;49mtranslate_text(\u001b[39mself\u001b[39;49m\u001b[39m.\u001b[39;49mtext, translator\u001b[39m=\u001b[39;49m\u001b[39m'\u001b[39;49m\u001b[39mgoogle\u001b[39;49m\u001b[39m'\u001b[39;49m,\n\u001b[0;32m     49\u001b[0m                                         from_language\u001b[39m=\u001b[39;49m\u001b[39m'\u001b[39;49m\u001b[39mel\u001b[39;49m\u001b[39m'\u001b[39;49m,\n\u001b[0;32m     50\u001b[0m                                         to_language\u001b[39m=\u001b[39;49m\u001b[39m'\u001b[39;49m\u001b[39men\u001b[39;49m\u001b[39m'\u001b[39;49m)\n\u001b[0;32m     51\u001b[0m     \u001b[39mreturn\u001b[39;00m \u001b[39mself\u001b[39m\u001b[39m.\u001b[39mtranslated_txt\n",
      "File \u001b[1;32m~\\AppData\\Roaming\\Python\\Python311\\site-packages\\translators\\server.py:4727\u001b[0m, in \u001b[0;36mTranslatorsServer.translate_text\u001b[1;34m(self, query_text, translator, from_language, to_language, if_use_preacceleration, **kwargs)\u001b[0m\n\u001b[0;32m   4724\u001b[0m \u001b[39mif\u001b[39;00m \u001b[39mnot\u001b[39;00m \u001b[39mself\u001b[39m\u001b[39m.\u001b[39mpre_acceleration_label \u001b[39mand\u001b[39;00m if_use_preacceleration:\n\u001b[0;32m   4725\u001b[0m     _ \u001b[39m=\u001b[39m \u001b[39mself\u001b[39m\u001b[39m.\u001b[39mpreaccelerate()\n\u001b[1;32m-> 4727\u001b[0m \u001b[39mreturn\u001b[39;00m \u001b[39mself\u001b[39;49m\u001b[39m.\u001b[39;49mtranslators_dict[translator](query_text\u001b[39m=\u001b[39;49mquery_text, from_language\u001b[39m=\u001b[39;49mfrom_language, to_language\u001b[39m=\u001b[39;49mto_language, \u001b[39m*\u001b[39;49m\u001b[39m*\u001b[39;49mkwargs)\n",
      "File \u001b[1;32m~\\AppData\\Roaming\\Python\\Python311\\site-packages\\translators\\server.py:102\u001b[0m, in \u001b[0;36mTse.time_stat.<locals>._wrapper\u001b[1;34m(*args, **kwargs)\u001b[0m\n\u001b[0;32m    100\u001b[0m     sys\u001b[39m.\u001b[39mstderr\u001b[39m.\u001b[39mwrite(\u001b[39mf\u001b[39m\u001b[39m'\u001b[39m\u001b[39mCostTime(function: \u001b[39m\u001b[39m{\u001b[39;00mfunc\u001b[39m.\u001b[39m\u001b[39m__name__\u001b[39m[:\u001b[39m-\u001b[39m\u001b[39m4\u001b[39m]\u001b[39m}\u001b[39;00m\u001b[39m): \u001b[39m\u001b[39m{\u001b[39;00mcost_time\u001b[39m}\u001b[39;00m\u001b[39ms\u001b[39m\u001b[39m\\n\u001b[39;00m\u001b[39m'\u001b[39m)\n\u001b[0;32m    101\u001b[0m     \u001b[39mreturn\u001b[39;00m result\n\u001b[1;32m--> 102\u001b[0m \u001b[39mreturn\u001b[39;00m func(\u001b[39m*\u001b[39;49margs, \u001b[39m*\u001b[39;49m\u001b[39m*\u001b[39;49mkwargs)\n",
      "File \u001b[1;32m~\\AppData\\Roaming\\Python\\Python311\\site-packages\\translators\\server.py:235\u001b[0m, in \u001b[0;36mTse.check_query.<locals>._wrapper\u001b[1;34m(*args, **kwargs)\u001b[0m\n\u001b[0;32m    232\u001b[0m is_detail_result \u001b[39m=\u001b[39m kwargs\u001b[39m.\u001b[39mget(\u001b[39m'\u001b[39m\u001b[39mis_detail_result\u001b[39m\u001b[39m'\u001b[39m, \u001b[39mFalse\u001b[39;00m)\n\u001b[0;32m    234\u001b[0m query_text \u001b[39m=\u001b[39m \u001b[39mlist\u001b[39m(args)[\u001b[39m1\u001b[39m] \u001b[39mif\u001b[39;00m \u001b[39mlen\u001b[39m(args) \u001b[39m>\u001b[39m\u001b[39m=\u001b[39m \u001b[39m2\u001b[39m \u001b[39melse\u001b[39;00m kwargs\u001b[39m.\u001b[39mget(\u001b[39m'\u001b[39m\u001b[39mquery_text\u001b[39m\u001b[39m'\u001b[39m)\n\u001b[1;32m--> 235\u001b[0m query_text \u001b[39m=\u001b[39m check_query_text(query_text, if_ignore_empty_query, if_ignore_limit_of_length, limit_of_length)\n\u001b[0;32m    236\u001b[0m \u001b[39mif\u001b[39;00m \u001b[39mnot\u001b[39;00m query_text \u001b[39mand\u001b[39;00m if_ignore_empty_query:\n\u001b[0;32m    237\u001b[0m     \u001b[39mreturn\u001b[39;00m {\u001b[39m'\u001b[39m\u001b[39mdata\u001b[39m\u001b[39m'\u001b[39m: query_text} \u001b[39mif\u001b[39;00m is_detail_result \u001b[39melse\u001b[39;00m query_text\n",
      "File \u001b[1;32m~\\AppData\\Roaming\\Python\\Python311\\site-packages\\translators\\server.py:218\u001b[0m, in \u001b[0;36mTse.check_query.<locals>.check_query_text\u001b[1;34m(query_text, if_ignore_empty_query, if_ignore_limit_of_length, limit_of_length)\u001b[0m\n\u001b[0;32m    216\u001b[0m qt_length \u001b[39m=\u001b[39m \u001b[39mlen\u001b[39m(query_text)\n\u001b[0;32m    217\u001b[0m \u001b[39mif\u001b[39;00m qt_length \u001b[39m==\u001b[39m \u001b[39m0\u001b[39m \u001b[39mand\u001b[39;00m \u001b[39mnot\u001b[39;00m if_ignore_empty_query:\n\u001b[1;32m--> 218\u001b[0m     \u001b[39mraise\u001b[39;00m TranslatorError(\u001b[39m\"\u001b[39m\u001b[39mThe `query_text` can\u001b[39m\u001b[39m'\u001b[39m\u001b[39mt be empty!\u001b[39m\u001b[39m\"\u001b[39m)\n\u001b[0;32m    219\u001b[0m \u001b[39mif\u001b[39;00m qt_length \u001b[39m>\u001b[39m\u001b[39m=\u001b[39m limit_of_length \u001b[39mand\u001b[39;00m \u001b[39mnot\u001b[39;00m if_ignore_limit_of_length:\n\u001b[0;32m    220\u001b[0m     \u001b[39mraise\u001b[39;00m TranslatorError(\u001b[39m'\u001b[39m\u001b[39mThe length of `query_text` exceeds the limit.\u001b[39m\u001b[39m'\u001b[39m)\n",
      "\u001b[1;31mTranslatorError\u001b[0m: The `query_text` can't be empty!"
     ]
    }
   ],
   "source": [
    "process_user_input()"
   ]
  },
  {
   "cell_type": "code",
   "execution_count": 95,
   "metadata": {},
   "outputs": [],
   "source": [
    "text = 'με λενε Γιαννη και ειμαι 18 ετων. μενω στο Ηράκλειο'\n",
    "\n",
    "test = Tran('el', text)"
   ]
  },
  {
   "cell_type": "code",
   "execution_count": 96,
   "metadata": {},
   "outputs": [
    {
     "data": {
      "text/plain": [
       "'My name is Giannis and I am 18 years old. I live in Heraklion'"
      ]
     },
     "execution_count": 96,
     "metadata": {},
     "output_type": "execute_result"
    }
   ],
   "source": [
    "test.translate()\n"
   ]
  },
  {
   "cell_type": "code",
   "execution_count": 90,
   "metadata": {},
   "outputs": [
    {
     "data": {
      "text/plain": [
       "'με λενε Γιαννη και ειμαι 18 ετων. μενω στο Ηράκλειο'"
      ]
     },
     "execution_count": 90,
     "metadata": {},
     "output_type": "execute_result"
    }
   ],
   "source": [
    "test.PII_removal_from_original()"
   ]
  },
  {
   "cell_type": "code",
   "execution_count": 97,
   "metadata": {},
   "outputs": [
    {
     "name": "stderr",
     "output_type": "stream",
     "text": [
      "[2023-07-04 11:34:53,164][decision_process][INFO][None][nlp artifacts:{\"entities\": [\"Giannis\", \"18 years old\", \"Heraklion\"], \"tokens\": [\"My\", \"name\", \"is\", \"Giannis\", \"and\", \"I\", \"am\", \"18\", \"years\", \"old\", \".\", \"I\", \"live\", \"in\", \"Heraklion\"], \"lemmas\": [\"my\", \"name\", \"be\", \"Giannis\", \"and\", \"I\", \"be\", \"18\", \"year\", \"old\", \".\", \"I\", \"live\", \"in\", \"Heraklion\"], \"tokens_indices\": [0, 3, 8, 11, 19, 23, 25, 28, 31, 37, 40, 42, 44, 49, 52], \"keywords\": [\"giannis\", \"18\", \"year\", \"old\", \"live\", \"heraklion\"]}]\n",
      "[2023-07-04 11:34:53,168][decision_process][INFO][None][[\"{'entity_type': 'PERSON', 'start': 11, 'end': 18, 'score': 0.85, 'analysis_explanation': {'recognizer': 'SpacyRecognizer', 'pattern_name': None, 'pattern': None, 'original_score': 0.85, 'score': 0.85, 'textual_explanation': \\\"Identified as PERSON by Spacy's Named Entity Recognition\\\", 'score_context_improvement': 0, 'supportive_context_word': '', 'validation_result': None}, 'recognition_metadata': {'recognizer_name': 'SpacyRecognizer', 'recognizer_identifier': 'SpacyRecognizer_2047604431888'}}\", \"{'entity_type': 'DATE_TIME', 'start': 28, 'end': 40, 'score': 0.85, 'analysis_explanation': {'recognizer': 'SpacyRecognizer', 'pattern_name': None, 'pattern': None, 'original_score': 0.85, 'score': 0.85, 'textual_explanation': \\\"Identified as DATE by Spacy's Named Entity Recognition\\\", 'score_context_improvement': 0, 'supportive_context_word': '', 'validation_result': None}, 'recognition_metadata': {'recognizer_name': 'SpacyRecognizer', 'recognizer_identifier': 'SpacyRecognizer_2047604431888'}}\", \"{'entity_type': 'LOCATION', 'start': 52, 'end': 61, 'score': 0.85, 'analysis_explanation': {'recognizer': 'SpacyRecognizer', 'pattern_name': None, 'pattern': None, 'original_score': 0.85, 'score': 0.85, 'textual_explanation': \\\"Identified as GPE by Spacy's Named Entity Recognition\\\", 'score_context_improvement': 0, 'supportive_context_word': '', 'validation_result': None}, 'recognition_metadata': {'recognizer_name': 'SpacyRecognizer', 'recognizer_identifier': 'SpacyRecognizer_2047604431888'}}\", \"{'entity_type': 'NUMBERS', 'start': 28, 'end': 30, 'score': 0.3, 'analysis_explanation': {'recognizer': 'PatternRecognizer', 'pattern_name': 'numbers_pattern', 'pattern': '\\\\\\\\d+', 'original_score': 0.3, 'score': 0.3, 'textual_explanation': None, 'score_context_improvement': 0, 'supportive_context_word': '', 'validation_result': None}, 'recognition_metadata': {'recognizer_name': 'PatternRecognizer', 'recognizer_identifier': 'PatternRecognizer_2052205518608'}}\"]]\n"
     ]
    },
    {
     "data": {
      "text/plain": [
       "[type: PERSON, start: 11, end: 18, score: 0.85,\n",
       " type: DATE_TIME, start: 28, end: 40, score: 0.85,\n",
       " type: LOCATION, start: 52, end: 61, score: 0.85,\n",
       " type: NUMBERS, start: 28, end: 30, score: 0.3]"
      ]
     },
     "execution_count": 97,
     "metadata": {},
     "output_type": "execute_result"
    }
   ],
   "source": [
    "test.analyzer.analyze(text=test.translate(),language='en')"
   ]
  },
  {
   "cell_type": "code",
   "execution_count": 98,
   "metadata": {},
   "outputs": [
    {
     "name": "stderr",
     "output_type": "stream",
     "text": [
      "[2023-07-04 11:34:54,860][decision_process][INFO][None][nlp artifacts:{\"entities\": [\"Giannis\", \"18 years old\", \"Heraklion\"], \"tokens\": [\"My\", \"name\", \"is\", \"Giannis\", \"and\", \"I\", \"am\", \"18\", \"years\", \"old\", \".\", \"I\", \"live\", \"in\", \"Heraklion\"], \"lemmas\": [\"my\", \"name\", \"be\", \"Giannis\", \"and\", \"I\", \"be\", \"18\", \"year\", \"old\", \".\", \"I\", \"live\", \"in\", \"Heraklion\"], \"tokens_indices\": [0, 3, 8, 11, 19, 23, 25, 28, 31, 37, 40, 42, 44, 49, 52], \"keywords\": [\"giannis\", \"18\", \"year\", \"old\", \"live\", \"heraklion\"]}]\n",
      "[2023-07-04 11:34:54,861][decision_process][INFO][None][[\"{'entity_type': 'PERSON', 'start': 11, 'end': 18, 'score': 0.85, 'analysis_explanation': {'recognizer': 'SpacyRecognizer', 'pattern_name': None, 'pattern': None, 'original_score': 0.85, 'score': 0.85, 'textual_explanation': \\\"Identified as PERSON by Spacy's Named Entity Recognition\\\", 'score_context_improvement': 0, 'supportive_context_word': '', 'validation_result': None}, 'recognition_metadata': {'recognizer_name': 'SpacyRecognizer', 'recognizer_identifier': 'SpacyRecognizer_2047604431888'}}\", \"{'entity_type': 'LOCATION', 'start': 52, 'end': 61, 'score': 0.85, 'analysis_explanation': {'recognizer': 'SpacyRecognizer', 'pattern_name': None, 'pattern': None, 'original_score': 0.85, 'score': 0.85, 'textual_explanation': \\\"Identified as GPE by Spacy's Named Entity Recognition\\\", 'score_context_improvement': 0, 'supportive_context_word': '', 'validation_result': None}, 'recognition_metadata': {'recognizer_name': 'SpacyRecognizer', 'recognizer_identifier': 'SpacyRecognizer_2047604431888'}}\", \"{'entity_type': 'NUMBERS', 'start': 28, 'end': 30, 'score': 0.3, 'analysis_explanation': {'recognizer': 'PatternRecognizer', 'pattern_name': 'numbers_pattern', 'pattern': '\\\\\\\\d+', 'original_score': 0.3, 'score': 0.3, 'textual_explanation': None, 'score_context_improvement': 0, 'supportive_context_word': '', 'validation_result': None}, 'recognition_metadata': {'recognizer_name': 'PatternRecognizer', 'recognizer_identifier': 'PatternRecognizer_2052205518608'}}\"]]\n"
     ]
    },
    {
     "data": {
      "text/plain": [
       "text: My name is <ANONYMOUS> and I am <ANONYMIZED> years old. I live in <HIDDEN>\n",
       "items:\n",
       "[\n",
       "    {'start': 66, 'end': 74, 'entity_type': 'LOCATION', 'text': '<HIDDEN>', 'operator': 'replace'},\n",
       "    {'start': 32, 'end': 44, 'entity_type': 'NUMBERS', 'text': '<ANONYMIZED>', 'operator': 'replace'},\n",
       "    {'start': 11, 'end': 22, 'entity_type': 'PERSON', 'text': '<ANONYMOUS>', 'operator': 'replace'}\n",
       "]"
      ]
     },
     "execution_count": 98,
     "metadata": {},
     "output_type": "execute_result"
    }
   ],
   "source": [
    "test.anonymize()"
   ]
  },
  {
   "cell_type": "code",
   "execution_count": 102,
   "metadata": {},
   "outputs": [
    {
     "data": {
      "text/plain": [
       "'<HIDDEN>'"
      ]
     },
     "execution_count": 102,
     "metadata": {},
     "output_type": "execute_result"
    }
   ],
   "source": [
    "test.anon_text.items[0].text"
   ]
  },
  {
   "cell_type": "code",
   "execution_count": 81,
   "metadata": {},
   "outputs": [
    {
     "data": {
      "text/plain": [
       "'{\"entities\": [\"Yiannis\", \"18 years old\", \"Heraklion\"], \"tokens\": [\"My\", \"name\", \"is\", \"Yiannis\", \"and\", \"I\", \"am\", \"18\", \"years\", \"old\", \".\", \"I\", \"live\", \"in\", \"Heraklion\"], \"lemmas\": [\"my\", \"name\", \"be\", \"Yiannis\", \"and\", \"I\", \"be\", \"18\", \"year\", \"old\", \".\", \"I\", \"live\", \"in\", \"Heraklion\"], \"tokens_indices\": [0, 3, 8, 11, 19, 23, 25, 28, 31, 37, 40, 42, 44, 49, 52], \"keywords\": [\"yiannis\", \"18\", \"year\", \"old\", \"live\", \"heraklion\"]}'"
      ]
     },
     "execution_count": 81,
     "metadata": {},
     "output_type": "execute_result"
    }
   ],
   "source": [
    "test.analyzer.nlp_engine.process_text(test.translate(),'en').to_json()\n"
   ]
  },
  {
   "cell_type": "code",
   "execution_count": 84,
   "metadata": {},
   "outputs": [
    {
     "data": {
      "text/plain": [
       "[{'start': 66, 'end': 74, 'entity_type': 'LOCATION', 'text': '<HIDDEN>', 'operator': 'replace'},\n",
       " {'start': 32, 'end': 44, 'entity_type': 'NUMBERS', 'text': '<ANONYMIZED>', 'operator': 'replace'},\n",
       " {'start': 11, 'end': 22, 'entity_type': 'PERSON', 'text': '<ANONYMOUS>', 'operator': 'replace'}]"
      ]
     },
     "execution_count": 84,
     "metadata": {},
     "output_type": "execute_result"
    }
   ],
   "source": [
    "test.anon_text.items"
   ]
  },
  {
   "cell_type": "code",
   "execution_count": null,
   "metadata": {},
   "outputs": [],
   "source": []
  }
 ],
 "metadata": {
  "kernelspec": {
   "display_name": "Python 3",
   "language": "python",
   "name": "python3"
  },
  "language_info": {
   "codemirror_mode": {
    "name": "ipython",
    "version": 3
   },
   "file_extension": ".py",
   "mimetype": "text/x-python",
   "name": "python",
   "nbconvert_exporter": "python",
   "pygments_lexer": "ipython3",
   "version": "3.11.3"
  },
  "orig_nbformat": 4
 },
 "nbformat": 4,
 "nbformat_minor": 2
}
