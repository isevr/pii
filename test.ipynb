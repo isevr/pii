{
 "cells": [
  {
   "cell_type": "code",
   "execution_count": 2,
   "metadata": {},
   "outputs": [
    {
     "name": "stderr",
     "output_type": "stream",
     "text": [
      "Using region Central Macedonia server backend.\n"
     ]
    }
   ],
   "source": [
    "import translators as ts\n",
    "import translators.server as tss\n",
    "from presidio_analyzer import AnalyzerEngine, Pattern\n",
    "from presidio_anonymizer import AnonymizerEngine\n",
    "from presidio_anonymizer.entities import OperatorResult, OperatorConfig\n",
    "from presidio_analyzer import PatternRecognizer\n",
    "import random"
   ]
  },
  {
   "cell_type": "code",
   "execution_count": 29,
   "metadata": {},
   "outputs": [],
   "source": [
    "class Tran:\n",
    "    def __init__(self, lang, text):\n",
    "        self.text = text\n",
    "        self.lang = lang\n",
    "\n",
    "        #List of entities to look for\n",
    "        self.entities = ['PERSON', 'NUMBERS',\n",
    "                   'EMAIL_ADDRESS', 'IP_ADDRESS', 'NRP',\n",
    "                   'LOCATION', 'BLOOD_TYPE']\n",
    "        \n",
    "        self.analyzer = AnalyzerEngine(log_decision_process=True)\n",
    "        self.anonymizer = AnonymizerEngine()\n",
    "        \n",
    "        # Option to create custom recognizers\n",
    "        blood_type_recognizer = PatternRecognizer(supported_entity=\"BLOOD_TYPE\",\n",
    "                                      deny_list=[\"A-\",\"A+\",\"B-\",\"B+\",\"AB-\",\"AB+\",\"O-\",\"O+\"])\n",
    "        \n",
    "        numbers_pattern = Pattern(name=\"numbers_pattern\",regex=\"\\d+\", score = 0.3)\n",
    "\n",
    "        number_recognizer = PatternRecognizer(supported_entity=\"NUMBERS\", patterns = [numbers_pattern])\n",
    "\n",
    "        self.analyzer.registry.add_recognizer(blood_type_recognizer)\n",
    "        self.analyzer.registry.add_recognizer(number_recognizer)\n",
    "\n",
    "        # Can define how the operators will behave for each entity\n",
    "        self.operators = {\n",
    "            \"DEFAULT\": OperatorConfig(\"replace\", {\"new_value\": \"<ANONYMIZED>\"}),\n",
    "            \n",
    "            \"PERSON\": OperatorConfig(\"replace\", {\"new_value\": \"<ANONYMOUS>\"}),\n",
    "            \n",
    "            \"NUMBERS\": OperatorConfig(\"replace\", {\"new_value\": \"<ANONYMIZED>\"}),\n",
    "            \n",
    "            \"IP_ADDRESS\": OperatorConfig(\"mask\", {\"type\": \"mask\",\"masking_char\": \"*\",\n",
    "                                                    \"chars_to_mask\": 12,\n",
    "                                                    \"from_end\": True,}),\n",
    "            \"NRP\": OperatorConfig(\"redact\"),\n",
    "            \n",
    "            \"LOCATION\": OperatorConfig(\"replace\", {\"new_value\": \"<HIDDEN>\"}),\n",
    "            \n",
    "            \"EMAIL_ADDRESS\": OperatorConfig(\"replace\", {\"new_value\": \"<HIDDEN_EMAIL>\"}),\n",
    "            \n",
    "            \"BLOOD_TYPE\": OperatorConfig(\"replace\", {\"new_value\": \"<HIDDEN_BLOOD_TYPE>\"})\n",
    "        \n",
    "        }\n",
    "    \n",
    "    def translate(self):\n",
    "        #translates from greek to english \n",
    "        self.translated_txt = ts.translate_text(self.text, translater='google',\n",
    "                                            from_language='el',\n",
    "                                            to_language='en')\n",
    "        return self.translated_txt\n",
    "\n",
    "\n",
    "    def anonymize(self):\n",
    "                \n",
    "        if self.lang == 'el':\n",
    "        # Anonymize the translated text\n",
    "            self.results = self.analyzer.analyze(text=self.translated_txt,\n",
    "                                                entities=self.entities,\n",
    "                                                language='en')\n",
    "            self.anon_text = self.anonymizer.anonymize(text=self.translated_txt, analyzer_results=self.results,\n",
    "                                                operators=self.operators)\n",
    "            return self.anon_text\n",
    "        \n",
    "        #Anonymize english text\n",
    "        elif self.lang == 'en':\n",
    "            self.results = self.analyzer.analyze(text=self.text,\n",
    "                                                entities=self.entities,\n",
    "                                                language='en')\n",
    "            self.anon_text = self.anonymizer.anonymize(text=self.text, analyzer_results=self.results,\n",
    "                                                operators=self.operators)\n",
    "            return self.anon_text\n",
    "        \n",
    "    def PII_removal_from_original(self):\n",
    "        start = self.results[0].to_dict().get('start')\n",
    "        end = self.results[0].to_dict().get('end')\n",
    "\n",
    "        if self.lang == 'el':\n",
    "            pii_translated = ts.translate_text(self.translated_txt[start:end], translater='google',\n",
    "                                           from_language='en',to_language='el')\n",
    "        \n",
    "            return self.text.replace(pii_translated, self.anon_text.items[0].text)\n",
    "        \n",
    "        if self.lang == 'en':\n",
    "            return self.anon_text.text\n",
    "\n"
   ]
  },
  {
   "cell_type": "code",
   "execution_count": 4,
   "metadata": {},
   "outputs": [],
   "source": [
    "def process_user_input():\n",
    "\n",
    "    languages = ['el','en']\n",
    "    exit_phrases = ['goodbye','bye','good bye','see you']\n",
    "    chatbot_prompts = ['What is your name?', 'I need your credit card number to make this purchase',\n",
    "                       'What email address should I send this to?', 'Tell me about yourself',\n",
    "                       'What number should they call you at?', 'Where do you live?',\n",
    "                       'What is your blood type?','What IP address are you connected from?']\n",
    "\n",
    "    lang_input = str(input('Choose language: \\n\\\n",
    "    1) Greek \\n\\\n",
    "    2) English \\n'))\n",
    "    if lang_input.lower() == 'greek' or lang_input == \"1\":\n",
    "        chosen_lang = languages[0]\n",
    "    elif lang_input.lower() == 'english' or lang_input == \"2\":\n",
    "        chosen_lang = languages[1]\n",
    "    else:\n",
    "        print('Language not supported')\n",
    "\n",
    "    while True:\n",
    "        global user_tran\n",
    "        user_input = str(input(f'Say something personal: '))\n",
    "        user_tran = Tran(chosen_lang, user_input)\n",
    "        print(f'This is text: {user_tran.text}')\n",
    "\n",
    "        if chosen_lang == 'el':\n",
    "            user_tran.translate()\n",
    "\n",
    "        if user_tran.text.lower() in exit_phrases:\n",
    "            print('Goodbye!')\n",
    "            break\n",
    "\n",
    "        user_tran.anonymize()\n",
    "        print(user_tran.results)\n",
    "        print(user_tran.text)\n",
    "        print(user_tran.anon_text)\n",
    "        \n",
    "        print(user_tran.PII_removal_from_original())\n",
    "\n"
   ]
  },
  {
   "cell_type": "code",
   "execution_count": 30,
   "metadata": {},
   "outputs": [],
   "source": [
    "text = 'με λενε γιαννη και ειμαι 18 ετων. μενω στο Ηράκλειο'\n",
    "\n",
    "test = Tran('el', text)"
   ]
  },
  {
   "cell_type": "code",
   "execution_count": 32,
   "metadata": {},
   "outputs": [
    {
     "data": {
      "text/plain": [
       "'My name is Yiannis and I am 18 years old. I live in Heraklion'"
      ]
     },
     "execution_count": 32,
     "metadata": {},
     "output_type": "execute_result"
    }
   ],
   "source": [
    "test.translate()\n"
   ]
  },
  {
   "cell_type": "code",
   "execution_count": 45,
   "metadata": {},
   "outputs": [
    {
     "name": "stderr",
     "output_type": "stream",
     "text": [
      "[2023-07-03 19:16:45,072][decision_process][INFO][None][nlp artifacts:{\"entities\": [\"Yiannis\", \"18 years old\", \"Heraklion\"], \"tokens\": [\"My\", \"name\", \"is\", \"Yiannis\", \"and\", \"I\", \"am\", \"18\", \"years\", \"old\", \".\", \"I\", \"live\", \"in\", \"Heraklion\"], \"lemmas\": [\"my\", \"name\", \"be\", \"Yiannis\", \"and\", \"I\", \"be\", \"18\", \"year\", \"old\", \".\", \"I\", \"live\", \"in\", \"Heraklion\"], \"tokens_indices\": [0, 3, 8, 11, 19, 23, 25, 28, 31, 37, 40, 42, 44, 49, 52], \"keywords\": [\"yiannis\", \"18\", \"year\", \"old\", \"live\", \"heraklion\"]}]\n",
      "[2023-07-03 19:16:45,076][decision_process][INFO][None][[\"{'entity_type': 'LOCATION', 'start': 52, 'end': 61, 'score': 0.85, 'analysis_explanation': {'recognizer': 'SpacyRecognizer', 'pattern_name': None, 'pattern': None, 'original_score': 0.85, 'score': 0.85, 'textual_explanation': \\\"Identified as GPE by Spacy's Named Entity Recognition\\\", 'score_context_improvement': 0, 'supportive_context_word': '', 'validation_result': None}, 'recognition_metadata': {'recognizer_name': 'SpacyRecognizer', 'recognizer_identifier': 'SpacyRecognizer_2070550463392'}}\", \"{'entity_type': 'DATE_TIME', 'start': 28, 'end': 40, 'score': 0.85, 'analysis_explanation': {'recognizer': 'SpacyRecognizer', 'pattern_name': None, 'pattern': None, 'original_score': 0.85, 'score': 0.85, 'textual_explanation': \\\"Identified as DATE by Spacy's Named Entity Recognition\\\", 'score_context_improvement': 0, 'supportive_context_word': '', 'validation_result': None}, 'recognition_metadata': {'recognizer_name': 'SpacyRecognizer', 'recognizer_identifier': 'SpacyRecognizer_2070550463392'}}\", \"{'entity_type': 'PERSON', 'start': 11, 'end': 18, 'score': 0.85, 'analysis_explanation': {'recognizer': 'SpacyRecognizer', 'pattern_name': None, 'pattern': None, 'original_score': 0.85, 'score': 0.85, 'textual_explanation': \\\"Identified as PERSON by Spacy's Named Entity Recognition\\\", 'score_context_improvement': 0, 'supportive_context_word': '', 'validation_result': None}, 'recognition_metadata': {'recognizer_name': 'SpacyRecognizer', 'recognizer_identifier': 'SpacyRecognizer_2070550463392'}}\", \"{'entity_type': 'NUMBERS', 'start': 28, 'end': 30, 'score': 0.3, 'analysis_explanation': {'recognizer': 'PatternRecognizer', 'pattern_name': 'numbers_pattern', 'pattern': '\\\\\\\\d+', 'original_score': 0.3, 'score': 0.3, 'textual_explanation': None, 'score_context_improvement': 0, 'supportive_context_word': '', 'validation_result': None}, 'recognition_metadata': {'recognizer_name': 'PatternRecognizer', 'recognizer_identifier': 'PatternRecognizer_2070550463728'}}\"]]\n"
     ]
    },
    {
     "data": {
      "text/plain": [
       "[type: PERSON, start: 11, end: 18, score: 0.85,\n",
       " type: DATE_TIME, start: 28, end: 40, score: 0.85,\n",
       " type: LOCATION, start: 52, end: 61, score: 0.85,\n",
       " type: NUMBERS, start: 28, end: 30, score: 0.3]"
      ]
     },
     "execution_count": 45,
     "metadata": {},
     "output_type": "execute_result"
    }
   ],
   "source": [
    "test.analyzer.analyze(text=test.translate(),language='en')"
   ]
  },
  {
   "cell_type": "code",
   "execution_count": 57,
   "metadata": {},
   "outputs": [
    {
     "ename": "TypeError",
     "evalue": "Logger.callHandlers() missing 1 required positional argument: 'record'",
     "output_type": "error",
     "traceback": [
      "\u001b[1;31m---------------------------------------------------------------------------\u001b[0m",
      "\u001b[1;31mTypeError\u001b[0m                                 Traceback (most recent call last)",
      "Cell \u001b[1;32mIn[57], line 1\u001b[0m\n\u001b[1;32m----> 1\u001b[0m test\u001b[39m.\u001b[39;49manonymizer\u001b[39m.\u001b[39;49mlogger\u001b[39m.\u001b[39;49mcallHandlers()\n",
      "\u001b[1;31mTypeError\u001b[0m: Logger.callHandlers() missing 1 required positional argument: 'record'"
     ]
    }
   ],
   "source": [
    "test.anonymizer.logger.callHandlers()"
   ]
  },
  {
   "cell_type": "code",
   "execution_count": null,
   "metadata": {},
   "outputs": [],
   "source": [
    "import logging\n"
   ]
  }
 ],
 "metadata": {
  "kernelspec": {
   "display_name": "Python 3",
   "language": "python",
   "name": "python3"
  },
  "language_info": {
   "codemirror_mode": {
    "name": "ipython",
    "version": 3
   },
   "file_extension": ".py",
   "mimetype": "text/x-python",
   "name": "python",
   "nbconvert_exporter": "python",
   "pygments_lexer": "ipython3",
   "version": "3.10.9"
  },
  "orig_nbformat": 4
 },
 "nbformat": 4,
 "nbformat_minor": 2
}
