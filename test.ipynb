{
 "cells": [
  {
   "cell_type": "code",
   "execution_count": 145,
   "metadata": {},
   "outputs": [],
   "source": [
    "from presidio_analyzer import AnalyzerEngine, Pattern, PatternRecognizer, RecognizerRegistry\n",
    "from presidio_anonymizer import AnonymizerEngine\n",
    "from presidio_anonymizer.entities import OperatorConfig\n",
    "from presidio_analyzer.nlp_engine import NlpEngineProvider\n",
    "from presidio_analyzer.predefined_recognizers import EmailRecognizer, IpRecognizer, PhoneRecognizer, IbanRecognizer, CreditCardRecognizer, SpacyRecognizer\n",
    "import spacy\n",
    "import el_core_news_lg as spel"
   ]
  },
  {
   "cell_type": "code",
   "execution_count": 255,
   "metadata": {},
   "outputs": [],
   "source": [
    "class Tran:\n",
    "    def __init__(self, lang, text):\n",
    "        self.text = text\n",
    "        self.lang = lang\n",
    "\n",
    "        # model configuration for greek and english\n",
    "        configuration = {\"nlp_engine_name\": \"spacy\",\n",
    "                         \"models\": [{\"lang_code\": \"el\", \"model_name\": \"el_core_news_lg\"},\n",
    "                                    {\"lang_code\": \"en\", \"model_name\": \"en_core_web_lg\"}]\n",
    "                        }\n",
    "\n",
    "        # NLP engine based on config\n",
    "        provider = NlpEngineProvider(nlp_configuration=configuration)\n",
    "        nlp_engine_el_en = provider.create_engine()\n",
    "\n",
    "        #List of entities to look for\n",
    "        self.entities = ['NUMBERS', 'PERSON',\n",
    "                         'EMAIL_ADDRESS', 'IP_ADDRESS',\n",
    "                         'LOCATION']\n",
    "        \n",
    "        # Setting up greek recognizers\n",
    "        email_recognizer_el = EmailRecognizer(supported_language=\"el\", context=[\"μειλ\"])\n",
    "        ip_recognizer_el = IpRecognizer(supported_language=\"el\", context=[\"ip\", \"IP\"])\n",
    "        phone_recognizer_el = PhoneRecognizer(supported_language=\"el\", context=[\"τηλέφωνο\", \"τηλεφωνο\", \"αριθμός\", \"αριθμος\"])\n",
    "        iban_recognizer_el = IbanRecognizer(supported_language=\"el\", context=[\"ιβαν\", \"iban\", \"τράπεζα\", \"τραπεζα\"])\n",
    "        credit_recognizer_el = CreditCardRecognizer(supported_language=\"el\", context=[\"credit\",\"card\",\"visa\",\"mastercard\",\"cc\",\n",
    "                                                                                      \"amex\",\"discover\",\"jcb\",\"diners\",\"maestro\",\"instapayment\",\n",
    "                                                                                      \"πιστωτική\",\"πιστωτικη\",\"κάρτα\",\"καρτα\"])\n",
    "        spacy_recognizer_el = SpacyRecognizer(supported_language=\"el\")\n",
    "        numbers_pattern = Pattern(name=\"numbers_pattern\",regex=\"\\d+\", score = 0.1)\n",
    "        number_recognizer = PatternRecognizer(supported_entity=\"NUMBERS\", patterns = [numbers_pattern],supported_language='el')\n",
    "\n",
    "        # Registry object along with predefined recognizers\n",
    "        registry = RecognizerRegistry()\n",
    "        registry.load_predefined_recognizers()\n",
    "\n",
    "        # Adding custom recognizers to registry\n",
    "        registry.add_recognizer(email_recognizer_el)\n",
    "        registry.add_recognizer(ip_recognizer_el)\n",
    "        registry.add_recognizer(phone_recognizer_el)\n",
    "        registry.add_recognizer(iban_recognizer_el)\n",
    "        registry.add_recognizer(number_recognizer)\n",
    "        registry.add_recognizer(credit_recognizer_el)\n",
    "        registry.add_recognizer(spacy_recognizer_el)\n",
    "\n",
    "        # Analyzer and anonymizer objects        \n",
    "        self.analyzer = AnalyzerEngine(nlp_engine=nlp_engine_el_en, \n",
    "                                       supported_languages=[\"el\", \"en\"],\n",
    "                                       registry=registry)\n",
    "        \n",
    "        self.anonymizer = AnonymizerEngine()\n",
    "        \n",
    "\n",
    "        # Can define how the operators will behave for each entity\n",
    "        self.operators = {            \n",
    "            \"PERSON\": OperatorConfig(\"replace\", {\"new_value\": \"<ANONYMOUS>\"}),\n",
    "            \n",
    "            \"NUMBERS\": OperatorConfig(\"replace\", {\"new_value\": \"<HIDDEN>\"}),\n",
    "            \n",
    "            \"IP_ADDRESS\": OperatorConfig(\"mask\", {\"type\": \"mask\",\"masking_char\": \"*\",\n",
    "                                                    \"chars_to_mask\": 12,\n",
    "                                                    \"from_end\": True,}),\n",
    "                                                                \n",
    "            \"LOCATION\": OperatorConfig(\"replace\", {\"new_value\": \"<HIDDEN>\"}),\n",
    "            \n",
    "            \"EMAIL_ADDRESS\": OperatorConfig(\"replace\", {\"new_value\": \"<HIDDEN_EMAIL>\"})       \n",
    "        }\n",
    "\n",
    "\n",
    "    def anonymize(self):\n",
    "        self.results = self.analyzer.analyze(text=self.text,\n",
    "                                            entities=self.entities,\n",
    "                                            language=self.lang)\n",
    "        \n",
    "        self.anon_text = self.anonymizer.anonymize(text=self.text, analyzer_results=self.results,\n",
    "                                            operators=self.operators)\n",
    "        \n",
    "        if self.lang == 'el':\n",
    "            english_nlp = spacy.load('el_core_news_lg')\n",
    "            spacy_parser = english_nlp(self.text)\n",
    "            for entity in spacy_parser.ents:\n",
    "                self.anon_text.text.replace(entity.text, '<HIDDEN>')    \n",
    "        \n",
    "        return self.anon_text\n",
    "\n",
    "\n",
    "    def check(self):\n",
    "        self.nlp = spacy.load('el_core_news_lg')\n",
    "        self.spacy_parser = self.nlp(self.text)\n",
    "        self.ents = self.spacy_parser.ents \n",
    "        for entity in self.ents:\n",
    "            print(entity.text, entity.label_)\n",
    "\n",
    "\n"
   ]
  },
  {
   "cell_type": "code",
   "execution_count": 258,
   "metadata": {},
   "outputs": [],
   "source": [
    "text = '''\n",
    "Με λένε Γιάννη. Mένω στο Ηράκλειο.\n",
    "'''\n",
    "\n",
    "text2 = 'My name is John'\n",
    "\n",
    "test = Tran('el', text)"
   ]
  },
  {
   "cell_type": "code",
   "execution_count": 259,
   "metadata": {},
   "outputs": [
    {
     "data": {
      "text/plain": [
       "text: \n",
       "Με λένε <ANONYMOUS>. Mένω στο <HIDDEN>.\n",
       "\n",
       "items:\n",
       "[\n",
       "    {'start': 31, 'end': 39, 'entity_type': 'LOCATION', 'text': '<HIDDEN>', 'operator': 'replace'},\n",
       "    {'start': 9, 'end': 20, 'entity_type': 'PERSON', 'text': '<ANONYMOUS>', 'operator': 'replace'}\n",
       "]"
      ]
     },
     "execution_count": 259,
     "metadata": {},
     "output_type": "execute_result"
    }
   ],
   "source": [
    "test.anonymize()"
   ]
  },
  {
   "cell_type": "code",
   "execution_count": 234,
   "metadata": {},
   "outputs": [
    {
     "name": "stdout",
     "output_type": "stream",
     "text": [
      "Found: Γιάννη of type: PERSON\n"
     ]
    }
   ],
   "source": [
    "import spacy\n",
    "\n",
    "nlp = spacy.load('el_core_news_lg')\n",
    "\n",
    "text4 = '''\n",
    "Με λένε Γιάννη             \n",
    "''' #this format needed for some fng reason\n",
    "\n",
    "spacy_parser = nlp(text4)\n",
    "\n",
    "for entity in spacy_parser.ents:\n",
    "    print(f'Found: {entity.text} of type: {entity.label_}')"
   ]
  },
  {
   "cell_type": "code",
   "execution_count": 150,
   "metadata": {},
   "outputs": [
    {
     "data": {
      "text/plain": [
       "(Γιάννη,)"
      ]
     },
     "execution_count": 150,
     "metadata": {},
     "output_type": "execute_result"
    }
   ],
   "source": [
    "spacy_parser.ents"
   ]
  },
  {
   "cell_type": "code",
   "execution_count": 151,
   "metadata": {},
   "outputs": [],
   "source": [
    "def check(text):\n",
    "    nlp = spacy.load('el_core_news_lg')\n",
    "    spacy_parser = nlp(text)\n",
    "    for entity in spacy_parser.ents:\n",
    "        print(entity)\n"
   ]
  },
  {
   "cell_type": "code",
   "execution_count": 152,
   "metadata": {},
   "outputs": [
    {
     "name": "stdout",
     "output_type": "stream",
     "text": [
      "Γιάννη\n"
     ]
    }
   ],
   "source": [
    "check(text)"
   ]
  },
  {
   "cell_type": "code",
   "execution_count": null,
   "metadata": {},
   "outputs": [],
   "source": []
  }
 ],
 "metadata": {
  "kernelspec": {
   "display_name": "Python 3",
   "language": "python",
   "name": "python3"
  },
  "language_info": {
   "codemirror_mode": {
    "name": "ipython",
    "version": 3
   },
   "file_extension": ".py",
   "mimetype": "text/x-python",
   "name": "python",
   "nbconvert_exporter": "python",
   "pygments_lexer": "ipython3",
   "version": "3.11.3"
  },
  "orig_nbformat": 4
 },
 "nbformat": 4,
 "nbformat_minor": 2
}
