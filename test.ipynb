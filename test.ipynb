{
 "cells": [
  {
   "cell_type": "code",
   "execution_count": 91,
   "metadata": {},
   "outputs": [],
   "source": [
    "from presidio_analyzer import AnalyzerEngine, Pattern, PatternRecognizer, RecognizerRegistry\n",
    "from presidio_anonymizer import AnonymizerEngine\n",
    "from presidio_anonymizer.entities import OperatorConfig\n",
    "from presidio_analyzer.nlp_engine import NlpEngineProvider\n",
    "from presidio_analyzer.predefined_recognizers import EmailRecognizer, IpRecognizer, PhoneRecognizer, IbanRecognizer, CreditCardRecognizer, SpacyRecognizer\n"
   ]
  },
  {
   "cell_type": "code",
   "execution_count": 113,
   "metadata": {},
   "outputs": [],
   "source": [
    "class Tran:\n",
    "    def __init__(self, lang, text):\n",
    "        self.text = text\n",
    "        self.lang = lang\n",
    "\n",
    "        # model configuration for greek and english\n",
    "        configuration = {\"nlp_engine_name\": \"spacy\",\n",
    "                         \"models\": [{\"lang_code\": \"el\", \"model_name\": \"el_core_news_lg\"},\n",
    "                                    {\"lang_code\": \"en\", \"model_name\": \"en_core_web_lg\"}],\n",
    "}\n",
    "\n",
    "        # NLP engine based on config\n",
    "        provider = NlpEngineProvider(nlp_configuration=configuration)\n",
    "        nlp_engine_el_en = provider.create_engine()\n",
    "\n",
    "        #List of entities to look for\n",
    "        self.entities = ['PERSON', 'NUMBERS',\n",
    "                         'EMAIL_ADDRESS', 'IP_ADDRESS',\n",
    "                         'LOCATION']\n",
    "        \n",
    "        # Setting up greek recognizers\n",
    "        email_recognizer_el = EmailRecognizer(supported_language=\"el\", context=[\"μειλ\"])\n",
    "        ip_recognizer_el = IpRecognizer(supported_language=\"el\", context=[\"ip\", \"IP\"])\n",
    "        phone_recognizer_el = PhoneRecognizer(supported_language=\"el\", context=[\"τηλέφωνο\", \"τηλεφωνο\", \"αριθμός\", \"αριθμος\"])\n",
    "        iban_recognizer_el = IbanRecognizer(supported_language=\"el\", context=[\"ιβαν\", \"iban\", \"τράπεζα\", \"τραπεζα\"])\n",
    "        credit_recognizer_el = CreditCardRecognizer(supported_language=\"el\", context=[\"credit\",\"card\",\"visa\",\"mastercard\",\"cc\",\n",
    "                                                                                      \"amex\",\"discover\",\"jcb\",\"diners\",\"maestro\",\"instapayment\",\n",
    "                                                                                      \"πιστωτική\",\"πιστωτικη\",\"κάρτα\",\"καρτα\"])\n",
    "        spacy_recognizer_el = SpacyRecognizer(supported_language=\"el\",supported_entities=['PERSON','LOCATION'],)\n",
    "        numbers_pattern = Pattern(name=\"numbers_pattern\",regex=\"\\d+\", score = 0.1)\n",
    "        number_recognizer = PatternRecognizer(supported_entity=\"NUMBERS\", patterns = [numbers_pattern],supported_language='el')\n",
    "\n",
    "        # Registry object along with predefined recognizers\n",
    "        registry = RecognizerRegistry()\n",
    "        registry.load_predefined_recognizers()\n",
    "\n",
    "        # Adding custom recognizers to registry\n",
    "        registry.add_recognizer(email_recognizer_el)\n",
    "        registry.add_recognizer(ip_recognizer_el)\n",
    "        registry.add_recognizer(phone_recognizer_el)\n",
    "        registry.add_recognizer(iban_recognizer_el)\n",
    "        registry.add_recognizer(number_recognizer)\n",
    "        registry.add_recognizer(credit_recognizer_el)\n",
    "        registry.add_recognizer(spacy_recognizer_el)\n",
    "\n",
    "\n",
    "\n",
    "        # Analyzer and anonymizer objects        \n",
    "        self.analyzer = AnalyzerEngine(nlp_engine=nlp_engine_el_en, \n",
    "                                       supported_languages=[\"el\", \"en\"],\n",
    "                                       registry=registry)\n",
    "        \n",
    "        self.anonymizer = AnonymizerEngine()\n",
    "        \n",
    "\n",
    "        # Can define how the operators will behave for each entity\n",
    "        self.operators = {            \n",
    "            \"PERSON\": OperatorConfig(\"replace\", {\"new_value\": \"<ANONYMOUS>\"}),\n",
    "            \n",
    "            \"NUMBERS\": OperatorConfig(\"replace\", {\"new_value\": \"<HIDDEN>\"}),\n",
    "            \n",
    "            \"IP_ADDRESS\": OperatorConfig(\"mask\", {\"type\": \"mask\",\"masking_char\": \"*\",\n",
    "                                                    \"chars_to_mask\": 12,\n",
    "                                                    \"from_end\": True,}),\n",
    "                                                                \n",
    "            \"LOCATION\": OperatorConfig(\"replace\", {\"new_value\": \"<HIDDEN>\"}),\n",
    "            \n",
    "            \"EMAIL_ADDRESS\": OperatorConfig(\"replace\", {\"new_value\": \"<HIDDEN_EMAIL>\"})       \n",
    "        }\n",
    "\n",
    "\n",
    "    def anonymize(self):\n",
    "                \n",
    "        if self.lang == 'el':\n",
    "        # Anonymize the translated text\n",
    "            self.results = self.analyzer.analyze(text=self.text,\n",
    "                                                entities=self.entities,\n",
    "                                                language='el')\n",
    "            self.anon_text = self.anonymizer.anonymize(text=self.text, analyzer_results=self.results,\n",
    "                                                operators=self.operators)\n",
    "            return self.anon_text\n",
    "        \n",
    "        #Anonymize english text\n",
    "        elif self.lang == 'en':\n",
    "            self.results = self.analyzer.analyze(text=self.text,\n",
    "                                                entities=self.entities,\n",
    "                                                language='en')\n",
    "            self.anon_text = self.anonymizer.anonymize(text=self.text, analyzer_results=self.results,\n",
    "                                                operators=self.operators)\n",
    "            return self.anon_text\n",
    "        \n",
    "\n"
   ]
  },
  {
   "cell_type": "code",
   "execution_count": 114,
   "metadata": {},
   "outputs": [],
   "source": [
    "text = 'Με λένε Γιάννη'\n",
    "\n",
    "test = Tran('el', text)"
   ]
  },
  {
   "cell_type": "code",
   "execution_count": 115,
   "metadata": {},
   "outputs": [
    {
     "data": {
      "text/plain": [
       "text: Με λένε Γιάννη\n",
       "items:\n",
       "[\n",
       "    \n",
       "]"
      ]
     },
     "execution_count": 115,
     "metadata": {},
     "output_type": "execute_result"
    }
   ],
   "source": [
    "test.anonymize()"
   ]
  },
  {
   "cell_type": "code",
   "execution_count": 110,
   "metadata": {},
   "outputs": [
    {
     "name": "stdout",
     "output_type": "stream",
     "text": [
      "Found: Γιάννη of type: PERSON\n"
     ]
    }
   ],
   "source": [
    "import spacy\n",
    "\n",
    "english_nlp = spacy.load('el_core_news_lg')\n",
    "\n",
    "text = '''\n",
    "Με λένε Γιάννη\n",
    "'''\n",
    "\n",
    "spacy_parser = english_nlp(text)\n",
    "\n",
    "for entity in spacy_parser.ents:\n",
    "    print(f'Found: {entity.text} of type: {entity.label_}')"
   ]
  },
  {
   "cell_type": "code",
   "execution_count": null,
   "metadata": {},
   "outputs": [],
   "source": []
  }
 ],
 "metadata": {
  "kernelspec": {
   "display_name": "Python 3",
   "language": "python",
   "name": "python3"
  },
  "language_info": {
   "codemirror_mode": {
    "name": "ipython",
    "version": 3
   },
   "file_extension": ".py",
   "mimetype": "text/x-python",
   "name": "python",
   "nbconvert_exporter": "python",
   "pygments_lexer": "ipython3",
   "version": "3.10.9"
  },
  "orig_nbformat": 4
 },
 "nbformat": 4,
 "nbformat_minor": 2
}
