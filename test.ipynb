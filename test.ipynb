{
 "cells": [
  {
   "cell_type": "code",
   "execution_count": 75,
   "metadata": {},
   "outputs": [],
   "source": [
    "import translators as ts\n",
    "import translators.server as tss\n",
    "from presidio_analyzer import AnalyzerEngine, Pattern\n",
    "from presidio_anonymizer import AnonymizerEngine\n",
    "from presidio_anonymizer.entities import OperatorResult, OperatorConfig\n",
    "from presidio_analyzer import PatternRecognizer\n",
    "import random"
   ]
  },
  {
   "cell_type": "code",
   "execution_count": 101,
   "metadata": {},
   "outputs": [],
   "source": [
    "class Tran:\n",
    "    def __init__(self, lang, text):\n",
    "        self.text = text\n",
    "        self.lang = lang\n",
    "\n",
    "        #List of entities to look for\n",
    "        self.entities = ['PERSON', 'NUMBERS',\n",
    "                   'EMAIL_ADDRESS', 'IP_ADDRESS', 'NRP',\n",
    "                   'LOCATION', 'BLOOD_TYPE']\n",
    "        \n",
    "        self.analyzer = AnalyzerEngine()\n",
    "        self.anonymizer = AnonymizerEngine()\n",
    "        \n",
    "        # Option to create custom recognizers\n",
    "        blood_type_recognizer = PatternRecognizer(supported_entity=\"BLOOD_TYPE\",\n",
    "                                      deny_list=[\"A-\",\"A+\",\"B-\",\"B+\",\"AB-\",\"AB+\",\"O-\",\"O+\"])\n",
    "        \n",
    "        numbers_pattern = Pattern(name=\"numbers_pattern\",regex=\"\\d+\", score = 0.3)\n",
    "\n",
    "        number_recognizer = PatternRecognizer(supported_entity=\"NUMBERS\", patterns = [numbers_pattern])\n",
    "\n",
    "        self.analyzer.registry.add_recognizer(blood_type_recognizer)\n",
    "        self.analyzer.registry.add_recognizer(number_recognizer)\n",
    "\n",
    "        # Can define how the operators will behave for each entity\n",
    "        self.operators = {\n",
    "            \"DEFAULT\": OperatorConfig(\"replace\", {\"new_value\": \"<ANONYMIZED>\"}),\n",
    "            \n",
    "            \"PERSON\": OperatorConfig(\"replace\", {\"new_value\": \"<ANONYMOUS>\"}),\n",
    "            \n",
    "            \"NUMBERS\": OperatorConfig(\"replace\", {\"new_value\": \"<ANONYMIZED>\"}),\n",
    "            \n",
    "            \"IP_ADDRESS\": OperatorConfig(\"mask\", {\"type\": \"mask\",\"masking_char\": \"*\",\n",
    "                                                    \"chars_to_mask\": 12,\n",
    "                                                    \"from_end\": True,}),\n",
    "            \"NRP\": OperatorConfig(\"redact\"),\n",
    "            \n",
    "            \"LOCATION\": OperatorConfig(\"replace\", {\"new_value\": \"<HIDDEN>\"}),\n",
    "            \n",
    "            \"EMAIL_ADDRESS\": OperatorConfig(\"replace\", {\"new_value\": \"<HIDDEN_EMAIL>\"}),\n",
    "            \n",
    "            \"BLOOD_TYPE\": OperatorConfig(\"replace\", {\"new_value\": \"<HIDDEN_BLOOD_TYPE>\"})\n",
    "        \n",
    "        }\n",
    "    \n",
    "    def translate(self):\n",
    "        #translates from greek to english \n",
    "        self.translated_txt = ts.translate_text(self.text, translater='google',\n",
    "                                            from_language='el',\n",
    "                                            to_language='en')\n",
    "        return self.translated_txt\n",
    "\n",
    "\n",
    "    def anonymize(self):\n",
    "                \n",
    "        if self.lang == 'el':\n",
    "        # Anonymize the translated text\n",
    "            self.results = self.analyzer.analyze(text=self.translated_txt,\n",
    "                                                entities=self.entities,\n",
    "                                                language='en')\n",
    "            self.anon_text = self.anonymizer.anonymize(text=self.translated_txt, analyzer_results=self.results,\n",
    "                                                operators=self.operators)\n",
    "            return self.anon_text\n",
    "        \n",
    "        #Anonymize english text\n",
    "        elif self.lang == 'en':\n",
    "            self.results = self.analyzer.analyze(text=self.text,\n",
    "                                                entities=self.entities,\n",
    "                                                language='en')\n",
    "            self.anon_text = self.anonymizer.anonymize(text=self.text, analyzer_results=self.results,\n",
    "                                                operators=self.operators)\n",
    "            return self.anon_text\n",
    "        \n",
    "    def PII_removal_from_original(self):\n",
    "        start = self.results[0].to_dict().get('start')\n",
    "        end = self.results[0].to_dict().get('end')\n",
    "\n",
    "        if self.lang == 'el':\n",
    "            pii_translated = ts.translate_text(self.translated_txt[start:end], translater='google',\n",
    "                                           from_language='en',to_language='el')\n",
    "        \n",
    "            return self.text.replace(pii_translated, self.anon_text.items[0].text)\n",
    "        \n",
    "        if self.lang == 'en':\n",
    "            return self.anon_text.text\n",
    "\n"
   ]
  },
  {
   "cell_type": "code",
   "execution_count": 102,
   "metadata": {},
   "outputs": [],
   "source": [
    "def process_user_input():\n",
    "\n",
    "    languages = ['el','en']\n",
    "    exit_phrases = ['goodbye','bye','good bye','see you']\n",
    "    chatbot_prompts = ['What is your name?', 'I need your credit card number to make this purchase',\n",
    "                       'What email address should I send this to?', 'Tell me about yourself',\n",
    "                       'What number should they call you at?', 'Where do you live?',\n",
    "                       'What is your blood type?','What IP address are you connected from?']\n",
    "\n",
    "    lang_input = str(input('Choose language: \\n\\\n",
    "    1) Greek \\n\\\n",
    "    2) English \\n'))\n",
    "    if lang_input.lower() == 'greek' or lang_input == \"1\":\n",
    "        chosen_lang = languages[0]\n",
    "    elif lang_input.lower() == 'english' or lang_input == \"2\":\n",
    "        chosen_lang = languages[1]\n",
    "    else:\n",
    "        print('Language not supported')\n",
    "\n",
    "    while True:\n",
    "        global user_tran\n",
    "        user_input = str(input(f'Say something personal: '))\n",
    "        user_tran = Tran(chosen_lang, user_input)\n",
    "        print(f'This is text: {user_tran.text}')\n",
    "\n",
    "        if chosen_lang == 'el':\n",
    "            user_tran.translate()\n",
    "\n",
    "        if user_tran.text.lower() in exit_phrases:\n",
    "            print('Goodbye!')\n",
    "            break\n",
    "\n",
    "        user_tran.anonymize()\n",
    "        print(user_tran.results)\n",
    "        print(user_tran.text)\n",
    "        print(user_tran.anon_text)\n",
    "        \n",
    "        print(user_tran.PII_removal_from_original())\n",
    "\n"
   ]
  },
  {
   "cell_type": "code",
   "execution_count": 103,
   "metadata": {},
   "outputs": [
    {
     "name": "stdout",
     "output_type": "stream",
     "text": [
      "This is text: 12312312\n",
      "[type: NUMBERS, start: 0, end: 8, score: 0.3]\n",
      "12312312\n",
      "text: <ANONYMIZED>\n",
      "items:\n",
      "[\n",
      "    {'start': 0, 'end': 12, 'entity_type': 'NUMBERS', 'text': '<ANONYMIZED>', 'operator': 'replace'}\n",
      "]\n",
      "\n",
      "<ANONYMIZED>\n",
      "This is text: \n",
      "[]\n",
      "\n",
      "text: \n",
      "items:\n",
      "[\n",
      "    \n",
      "]\n",
      "\n"
     ]
    },
    {
     "ename": "IndexError",
     "evalue": "list index out of range",
     "output_type": "error",
     "traceback": [
      "\u001b[1;31m---------------------------------------------------------------------------\u001b[0m",
      "\u001b[1;31mIndexError\u001b[0m                                Traceback (most recent call last)",
      "Cell \u001b[1;32mIn[103], line 1\u001b[0m\n\u001b[1;32m----> 1\u001b[0m process_user_input()\n",
      "Cell \u001b[1;32mIn[102], line 38\u001b[0m, in \u001b[0;36mprocess_user_input\u001b[1;34m()\u001b[0m\n\u001b[0;32m     35\u001b[0m \u001b[39mprint\u001b[39m(user_tran\u001b[39m.\u001b[39mtext)\n\u001b[0;32m     36\u001b[0m \u001b[39mprint\u001b[39m(user_tran\u001b[39m.\u001b[39manon_text)\n\u001b[1;32m---> 38\u001b[0m \u001b[39mprint\u001b[39m(user_tran\u001b[39m.\u001b[39;49mPII_removal_from_original())\n",
      "Cell \u001b[1;32mIn[101], line 75\u001b[0m, in \u001b[0;36mTran.PII_removal_from_original\u001b[1;34m(self)\u001b[0m\n\u001b[0;32m     74\u001b[0m \u001b[39mdef\u001b[39;00m \u001b[39mPII_removal_from_original\u001b[39m(\u001b[39mself\u001b[39m):\n\u001b[1;32m---> 75\u001b[0m     start \u001b[39m=\u001b[39m \u001b[39mself\u001b[39;49m\u001b[39m.\u001b[39;49mresults[\u001b[39m0\u001b[39;49m]\u001b[39m.\u001b[39mto_dict()\u001b[39m.\u001b[39mget(\u001b[39m'\u001b[39m\u001b[39mstart\u001b[39m\u001b[39m'\u001b[39m)\n\u001b[0;32m     76\u001b[0m     end \u001b[39m=\u001b[39m \u001b[39mself\u001b[39m\u001b[39m.\u001b[39mresults[\u001b[39m0\u001b[39m]\u001b[39m.\u001b[39mto_dict()\u001b[39m.\u001b[39mget(\u001b[39m'\u001b[39m\u001b[39mend\u001b[39m\u001b[39m'\u001b[39m)\n\u001b[0;32m     78\u001b[0m     \u001b[39mif\u001b[39;00m \u001b[39mself\u001b[39m\u001b[39m.\u001b[39mlang \u001b[39m==\u001b[39m \u001b[39m'\u001b[39m\u001b[39mel\u001b[39m\u001b[39m'\u001b[39m:\n",
      "\u001b[1;31mIndexError\u001b[0m: list index out of range"
     ]
    }
   ],
   "source": [
    "process_user_input()\n"
   ]
  },
  {
   "cell_type": "code",
   "execution_count": 88,
   "metadata": {},
   "outputs": [
    {
     "data": {
      "text/plain": [
       "'1312312312'"
      ]
     },
     "execution_count": 88,
     "metadata": {},
     "output_type": "execute_result"
    }
   ],
   "source": [
    "user_tran.text"
   ]
  },
  {
   "cell_type": "code",
   "execution_count": null,
   "metadata": {},
   "outputs": [],
   "source": []
  }
 ],
 "metadata": {
  "kernelspec": {
   "display_name": "Python 3",
   "language": "python",
   "name": "python3"
  },
  "language_info": {
   "codemirror_mode": {
    "name": "ipython",
    "version": 3
   },
   "file_extension": ".py",
   "mimetype": "text/x-python",
   "name": "python",
   "nbconvert_exporter": "python",
   "pygments_lexer": "ipython3",
   "version": "3.11.3"
  },
  "orig_nbformat": 4
 },
 "nbformat": 4,
 "nbformat_minor": 2
}
