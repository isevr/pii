{
 "cells": [
  {
   "cell_type": "code",
   "execution_count": 1,
   "id": "c4f2d8bb",
   "metadata": {},
   "outputs": [
    {
     "name": "stderr",
     "output_type": "stream",
     "text": [
      "Using region Attica server backend.\n"
     ]
    }
   ],
   "source": [
    "import translators as ts\n",
    "import translators.server as tss\n",
    "from presidio_analyzer import AnalyzerEngine\n",
    "from presidio_anonymizer import AnonymizerEngine\n",
    "from presidio_anonymizer.entities import OperatorResult, OperatorConfig\n",
    "from presidio_analyzer import PatternRecognizer\n",
    "import random\n"
   ]
  },
  {
   "cell_type": "code",
   "execution_count": 86,
   "id": "54d97bad",
   "metadata": {},
   "outputs": [],
   "source": [
    "class Tran:\n",
    "    def __init__(self, lang, text):\n",
    "        self.text = text\n",
    "        self.lang = lang\n",
    "     \n",
    "    def translate(self):\n",
    "        #translates from greek, romanian, or italian to english \n",
    "        self.translated_txt = ts.translate_text(self.text, translater='google',\n",
    "                                            from_language=self.lang,\n",
    "                                            to_language='en')\n",
    "        return self.translated_txt\n",
    "\n",
    "\n",
    "    def anonymize(self):\n",
    "        #List of entities to look for\n",
    "        entities = ['PERSON','PHONE_NUMBER','CREDIT_CARD',\n",
    "                   'EMAIL_ADDRESS', 'IP_ADDRESS', 'NRP',\n",
    "                   'LOCATION', 'BLOOD_TYPE']\n",
    "        \n",
    "        self.analyzer = AnalyzerEngine()\n",
    "        self.anonymizer = AnonymizerEngine()\n",
    "        \n",
    "        # Option to create custom recognizers\n",
    "        blood_type_recognizer = PatternRecognizer(supported_entity=\"BLOOD_TYPE\",\n",
    "                                      deny_list=[\"A-\",\"A+\",\"B-\",\"B+\",\"AB-\",\"AB+\",\"O-\",\"O+\"])\n",
    "\n",
    "        self.analyzer.registry.add_recognizer(blood_type_recognizer)\n",
    "\n",
    "        # Can define how the operators will behave for each entity\n",
    "        operators = {\n",
    "            \"DEFAULT\": OperatorConfig(\"replace\", {\"new_value\": \"<ANONYMIZED>\"}),\n",
    "            \n",
    "            \"PERSON\": OperatorConfig(\"replace\", {\"new_value\": \"<ANONYMOUS>\"}),\n",
    "            \n",
    "            \"CREDIT_CARD\": OperatorConfig(\"mask\",{\"type\":\"mask\",\"masking_char\": \"*\",\n",
    "                                                 \"chars_to_mask\": 12,\n",
    "                                                 \"from_end\": True}),\n",
    "            \n",
    "            \"PHONE_NUMBER\": OperatorConfig(\"mask\", {\"type\": \"mask\",\"masking_char\": \"*\",\n",
    "                                                    \"chars_to_mask\": 8,\n",
    "                                                    \"from_end\": False,}),\n",
    "            \n",
    "            \"IP_ADDRESS\": OperatorConfig(\"mask\", {\"type\": \"mask\",\"masking_char\": \"*\",\n",
    "                                                    \"chars_to_mask\": 12,\n",
    "                                                    \"from_end\": True,}),\n",
    "            \"NRP\": OperatorConfig(\"redact\"),\n",
    "            \n",
    "            \"LOCATION\": OperatorConfig(\"replace\", {\"new_value\": \"<HIDDEN>\"}),\n",
    "            \n",
    "            \"EMAIL_ADDRESS\": OperatorConfig(\"replace\", {\"new_value\": \"<HIDDEN_EMAIL>\"}),\n",
    "            \n",
    "            \"BLOOD_TYPE\": OperatorConfig(\"replace\", {\"new_value\": \"<HIDDEN_BLOOD_TYPE>\"})\n",
    "        \n",
    "        }\n",
    "        \n",
    "        # Anonymize the translated text\n",
    "        self.results = self.analyzer.analyze(text=self.translated_txt,\n",
    "                                            entities=entities,\n",
    "                                            language='en',\n",
    "                                            return_decision_process=True)\n",
    "        self.anon_text = self.anonymizer.anonymize(text=self.translated_txt, analyzer_results=self.results,\n",
    "                                            operators=operators)\n",
    "        return self.anon_text.text\n",
    "        \n",
    "    def tran_back(self):\n",
    "        # Translate text back to original language\n",
    "        self.tran_back_text = ts.translate_text(self.anon_text.text, translater='google',\n",
    "                                            from_language='en',\n",
    "                                            to_language=self.lang)\n",
    "        return self.tran_back_text\n",
    "\n",
    "        \n",
    "    "
   ]
  },
  {
   "cell_type": "code",
   "execution_count": 164,
   "id": "f1fb53fa",
   "metadata": {},
   "outputs": [
    {
     "data": {
      "text/plain": [
       "'Με λένε Γιάννη'"
      ]
     },
     "execution_count": 164,
     "metadata": {},
     "output_type": "execute_result"
    }
   ],
   "source": [
    "greek_text = 'Με λένε Γιάννη'\n",
    "\n",
    "english_text = ts.translate_text(greek_text, translater='google',\n",
    "                                            from_language='el',\n",
    "                                            to_language='en')\n",
    "\n",
    "analyzer = AnalyzerEngine()\n",
    "\n",
    "results = analyzer.analyze(text=english_text, \n",
    "                        language='en', \n",
    "                        return_decision_process=True)\n",
    "\n",
    "start = results[0].to_dict().get('start')\n",
    "end = results[0].to_dict().get('end')\n",
    "\n",
    "anonymizer = AnonymizerEngine()\n",
    "\n",
    "anon_text = anonymizer.anonymize(text=english_text, analyzer_results=results)\n",
    "\n",
    "pii_translated = ts.translate_text(english_text[start:end], translater='google',\n",
    "                                from_language='en',\n",
    "                                to_language='el')\n",
    "\n",
    "greek_text.replace(pii_translated, anon_text.items[0].text)"
   ]
  },
  {
   "cell_type": "code",
   "execution_count": 162,
   "id": "d0be3c2b",
   "metadata": {},
   "outputs": [
    {
     "data": {
      "text/plain": [
       "'<LOCATION>'"
      ]
     },
     "execution_count": 162,
     "metadata": {},
     "output_type": "execute_result"
    }
   ],
   "source": [
    "anon_text.items[0].text"
   ]
  },
  {
   "cell_type": "code",
   "execution_count": 132,
   "id": "448323d8",
   "metadata": {},
   "outputs": [
    {
     "data": {
      "text/plain": [
       "type: PERSON, start: 11, end: 15, score: 0.85"
      ]
     },
     "execution_count": 132,
     "metadata": {},
     "output_type": "execute_result"
    }
   ],
   "source": [
    "results[0]"
   ]
  },
  {
   "cell_type": "code",
   "execution_count": 85,
   "id": "411ad5ab",
   "metadata": {},
   "outputs": [
    {
     "name": "stderr",
     "output_type": "stream",
     "text": [
      "[2023-06-26 19:06:12,462][decision_process][INFO][None][nlp artifacts:{\"entities\": [\"Ioannis\"], \"tokens\": [\"My\", \"name\", \"is\", \"Ioannis\"], \"lemmas\": [\"my\", \"name\", \"be\", \"Ioannis\"], \"tokens_indices\": [0, 3, 8, 11], \"keywords\": [\"ioannis\"]}]\n",
      "[2023-06-26 19:06:12,465][decision_process][INFO][None][[\"{'entity_type': 'PERSON', 'start': 11, 'end': 18, 'score': 0.85, 'analysis_explanation': {'recognizer': 'SpacyRecognizer', 'pattern_name': None, 'pattern': None, 'original_score': 0.85, 'score': 0.85, 'textual_explanation': \\\"Identified as PERSON by Spacy's Named Entity Recognition\\\", 'score_context_improvement': 0, 'supportive_context_word': '', 'validation_result': None}, 'recognition_metadata': {'recognizer_name': 'SpacyRecognizer', 'recognizer_identifier': 'SpacyRecognizer_2478753270944'}}\"]]\n"
     ]
    },
    {
     "data": {
      "text/plain": [
       "{'entity_type': 'PERSON',\n",
       " 'start': 11,\n",
       " 'end': 18,\n",
       " 'score': 0.85,\n",
       " 'analysis_explanation': {'recognizer': 'SpacyRecognizer', 'pattern_name': None, 'pattern': None, 'original_score': 0.85, 'score': 0.85, 'textual_explanation': \"Identified as PERSON by Spacy's Named Entity Recognition\", 'score_context_improvement': 0, 'supportive_context_word': '', 'validation_result': None},\n",
       " 'recognition_metadata': {'recognizer_name': 'SpacyRecognizer',\n",
       "  'recognizer_identifier': 'SpacyRecognizer_2478753270944'}}"
      ]
     },
     "execution_count": 85,
     "metadata": {},
     "output_type": "execute_result"
    }
   ],
   "source": [
    "obj.analyzer.analyze(text=txt,\n",
    "                     language='en',\n",
    "                     return_decision_process=True)[0].to_dict()\n"
   ]
  },
  {
   "cell_type": "code",
   "execution_count": 42,
   "id": "7b17ab82",
   "metadata": {},
   "outputs": [
    {
     "data": {
      "text/plain": [
       "['ANONYMOUS']"
      ]
     },
     "execution_count": 42,
     "metadata": {},
     "output_type": "execute_result"
    }
   ],
   "source": [
    "import re\n",
    "\n",
    "re.findall(r\"<(.*?)>\",obj.anon_text.text)"
   ]
  },
  {
   "cell_type": "code",
   "execution_count": 31,
   "id": "52fbfda3",
   "metadata": {},
   "outputs": [],
   "source": [
    "def process_user_input():\n",
    "\n",
    "    languages = ['el','ro','it']\n",
    "    exit_phrases = ['goodbye','bye','good bye','see you']\n",
    "    chatbot_prompts = ['What is your name?', 'I need your credit card number to make this purchase',\n",
    "                       'What email address should I send this to?', 'Tell me about yourself',\n",
    "                       'What number should they call you at?', 'Where do you live?',\n",
    "                       'What is your blood type?','What IP address are you connected from?']\n",
    "\n",
    "    lang_input = str(input('Choose language: \\n\\\n",
    "    1) Greek \\n\\\n",
    "    2) Romanian \\n\\\n",
    "    3) Italian \\n'))\n",
    "    if lang_input.lower() == 'greek' or lang_input == \"1\":\n",
    "        chosen_lang = languages[0]\n",
    "    elif lang_input.lower() == 'romanian' or lang_input == \"2\":\n",
    "        chosen_lang = languages[1]\n",
    "    elif lang_input.lower() == 'italian' or lang_input == \"3\":\n",
    "        chosen_lang = languages[2]\n",
    "    else:\n",
    "        print('Language not supported')\n",
    "    while True:\n",
    "        user_input = str(input(f'{random.choice(chatbot_prompts)}: '))\n",
    "        user_tran = Tran(chosen_lang, user_input)\n",
    "        user_tran.translate()\n",
    "        if user_tran.translated_txt.lower() in exit_phrases:\n",
    "            print('Goodbye!')\n",
    "            break\n",
    "        user_tran.anonymize()\n",
    "        print(user_tran.tran_back())\n",
    "        "
   ]
  },
  {
   "cell_type": "code",
   "execution_count": 33,
   "id": "c0625c4d",
   "metadata": {},
   "outputs": [
    {
     "name": "stdout",
     "output_type": "stream",
     "text": [
      "Ονομάζομαι __________ <ANONYMOUS>\n",
      "ok αριθμός πιστωτικής κάρτας μου είναι 5167 32*********\n",
      "Ονομάζομαι __________ <ANONYMOUS>\n",
      "Στείλτε το στο <HIDDEN_EMAIL>\n",
      "Είμαι συνδεδεμένος από ***********\n",
      "Είμαι α και ψηφίζω υπέρ\n",
      "Στείλτε το στο <HIDDEN_EMAIL>\n",
      "καλέστε με στο ********5121\n",
      "Goodbye!\n"
     ]
    }
   ],
   "source": [
    "process_user_input()"
   ]
  },
  {
   "cell_type": "code",
   "execution_count": null,
   "id": "2bd9c098",
   "metadata": {},
   "outputs": [],
   "source": []
  }
 ],
 "metadata": {
  "kernelspec": {
   "display_name": "Python 3 (ipykernel)",
   "language": "python",
   "name": "python3"
  },
  "language_info": {
   "codemirror_mode": {
    "name": "ipython",
    "version": 3
   },
   "file_extension": ".py",
   "mimetype": "text/x-python",
   "name": "python",
   "nbconvert_exporter": "python",
   "pygments_lexer": "ipython3",
   "version": "3.10.9"
  }
 },
 "nbformat": 4,
 "nbformat_minor": 5
}
