{
 "cells": [
  {
   "cell_type": "code",
   "execution_count": 2,
   "metadata": {},
   "outputs": [],
   "source": [
    "no_accents = {'ά':'α',\n",
    "              'έ':'ε',\n",
    "              'ύ':'υ',\n",
    "              'ό':'ο',\n",
    "              'ί':'ι',\n",
    "              'ή':'η',\n",
    "              'ώ':'ω'}\n",
    "\n",
    "text = 'Με λένε Γιάννη'\n",
    "\n",
    "def de_accent(text):\n",
    "    global saved_characters\n",
    "    saved_characters = []\n",
    "    global l\n",
    "    l = dict(enumerate(text))\n",
    "    for position, character in l.items():\n",
    "        if character in no_accents:\n",
    "            saved_characters.append((character, position))\n",
    "            text = text.replace(character, no_accents[character])\n",
    "    return text.lower()"
   ]
  },
  {
   "cell_type": "code",
   "execution_count": 4,
   "metadata": {},
   "outputs": [
    {
     "data": {
      "text/plain": [
       "{0: 'Μ',\n",
       " 1: 'ε',\n",
       " 2: ' ',\n",
       " 3: 'λ',\n",
       " 4: 'έ',\n",
       " 5: 'ν',\n",
       " 6: 'ε',\n",
       " 7: ' ',\n",
       " 8: 'Γ',\n",
       " 9: 'ι',\n",
       " 10: 'ά',\n",
       " 11: 'ν',\n",
       " 12: 'ν',\n",
       " 13: 'η'}"
      ]
     },
     "execution_count": 4,
     "metadata": {},
     "output_type": "execute_result"
    }
   ],
   "source": [
    "l"
   ]
  },
  {
   "cell_type": "code",
   "execution_count": 3,
   "metadata": {},
   "outputs": [
    {
     "data": {
      "text/plain": [
       "'με λενε γιαννη'"
      ]
     },
     "execution_count": 3,
     "metadata": {},
     "output_type": "execute_result"
    }
   ],
   "source": [
    "de_accent(text)"
   ]
  },
  {
   "cell_type": "code",
   "execution_count": 5,
   "metadata": {},
   "outputs": [],
   "source": [
    "def accent(text, saved_chars):\n",
    "    k = dict(enumerate(de_accent(text)))\n",
    "    for element in saved_chars:\n",
    "        x, y = element\n",
    "        for key, value in k.items():\n",
    "            if key == y:\n",
    "                k[key] = x\n",
    "    final_text = ''.join(k.values())\n",
    "    return final_text"
   ]
  },
  {
   "cell_type": "code",
   "execution_count": 6,
   "metadata": {},
   "outputs": [
    {
     "data": {
      "text/plain": [
       "'με λένε γιάννη'"
      ]
     },
     "execution_count": 6,
     "metadata": {},
     "output_type": "execute_result"
    }
   ],
   "source": [
    "accent(text, saved_characters)"
   ]
  },
  {
   "cell_type": "code",
   "execution_count": null,
   "metadata": {},
   "outputs": [],
   "source": []
  }
 ],
 "metadata": {
  "kernelspec": {
   "display_name": "Python 3",
   "language": "python",
   "name": "python3"
  },
  "language_info": {
   "codemirror_mode": {
    "name": "ipython",
    "version": 3
   },
   "file_extension": ".py",
   "mimetype": "text/x-python",
   "name": "python",
   "nbconvert_exporter": "python",
   "pygments_lexer": "ipython3",
   "version": "3.11.3"
  },
  "orig_nbformat": 4
 },
 "nbformat": 4,
 "nbformat_minor": 2
}
